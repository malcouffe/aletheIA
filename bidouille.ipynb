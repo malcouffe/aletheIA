{
 "cells": [
  {
   "cell_type": "code",
   "execution_count": null,
   "metadata": {},
   "outputs": [],
   "source": [
    "from smolagents import CodeAgent, ToolCallingAgent, DuckDuckGoSearchTool, VisitWebpageTool, OpenAIServerModel\n",
    "import os\n",
    "\n",
    "model = OpenAIServerModel(\n",
    "    model_id=\"gpt-4o\",\n",
    "    api_base=\"https://api.openai.com/v1\",\n",
    "    api_key=os.environ[\"OPENAI_API_KEY\"],\n",
    ")\n",
    "\n",
    "# Définir l'agent web avec un nom et une description\n",
    "web_agent = ToolCallingAgent(\n",
    "    tools=[DuckDuckGoSearchTool(), VisitWebpageTool()],\n",
    "    model=model,\n",
    "    name=\"search_agent\",\n",
    "    description=\"Performs web searches using DuckDuckGo and visits webpages.\"\n",
    ")\n",
    "\n",
    "# Donner un nom unique à l'agent manager pour éviter le doublon\n",
    "manager_agent = CodeAgent(\n",
    "    tools=[], \n",
    "    model=model, \n",
    "    name=\"manager_agent\",\n",
    "    managed_agents=[web_agent]\n",
    ")\n",
    "\n",
    "manager_agent.run(\"Who is the CEO of Hugging Face?\")"
   ]
  },
  {
   "cell_type": "code",
   "execution_count": null,
   "metadata": {},
   "outputs": [],
   "source": [
    "from transformers import AutoModelForCausalLM, AutoTokenizer, pipeline, TransformersEngine\n",
    "\n",
    "model_name = \"HuggingFaceTB/SmolLM2-1.7B-Instruct\"\n",
    "tokenizer = AutoTokenizer.from_pretrained(model_name)\n",
    "model = AutoModelForCausalLM.from_pretrained(model_name)\n",
    "\n",
    "pipe = pipeline(\"text-generation\", model=model, tokenizer=tokenizer)\n",
    "\n",
    "engine = TransformersEngine(pipe)\n",
    "engine([{\"role\": \"user\", \"content\": \"How are you ?\"}], stop_sequences=[\"great\"])\n"
   ]
  },
  {
   "cell_type": "code",
   "execution_count": null,
   "metadata": {},
   "outputs": [],
   "source": []
  }
 ],
 "metadata": {
  "kernelspec": {
   "display_name": "base",
   "language": "python",
   "name": "python3"
  },
  "language_info": {
   "codemirror_mode": {
    "name": "ipython",
    "version": 3
   },
   "file_extension": ".py",
   "mimetype": "text/x-python",
   "name": "python",
   "nbconvert_exporter": "python",
   "pygments_lexer": "ipython3",
   "version": "3.12.9"
  }
 },
 "nbformat": 4,
 "nbformat_minor": 2
}
