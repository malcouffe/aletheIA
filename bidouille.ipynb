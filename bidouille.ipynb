{
 "cells": [
  {
   "cell_type": "code",
   "execution_count": null,
   "metadata": {},
   "outputs": [],
   "source": [
    "# Installation des dépendances nécessaires pour OpenAIServerModel\n",
    "!pip install 'smolagents[openai]'"
   ]
  },
  {
   "cell_type": "code",
   "execution_count": null,
   "metadata": {},
   "outputs": [],
   "source": [
    "from smolagents import CodeAgent, ToolCallingAgent, DuckDuckGoSearchTool, VisitWebpageTool, OpenAIServerModel\n",
    "import os\n",
    "\n",
    "model = OpenAIServerModel(\n",
    "    model_id=\"gpt-4o\",\n",
    "    api_base=\"https://api.openai.com/v1\",\n",
    "    api_key=os.environ[\"OPENAI_API_KEY\"],\n",
    ")\n",
    "\n",
    "# Définir l'agent web avec un nom et une description\n",
    "web_agent = ToolCallingAgent(\n",
    "    tools=[DuckDuckGoSearchTool(), VisitWebpageTool()],\n",
    "    model=model,\n",
    "    name=\"search_agent\",\n",
    "    description=\"Performs web searches using DuckDuckGo and visits webpages.\"\n",
    ")\n",
    "\n",
    "# Donner un nom unique à l'agent manager pour éviter le doublon\n",
    "manager_agent = CodeAgent(\n",
    "    tools=[], \n",
    "    model=model, \n",
    "    name=\"manager_agent\",\n",
    "    managed_agents=[web_agent]\n",
    ")\n",
    "\n",
    "manager_agent.run(\"Who is the CEO of Hugging Face?\")"
   ]
  },
  {
   "cell_type": "code",
   "execution_count": null,
   "metadata": {},
   "outputs": [],
   "source": [
    "from transformers import AutoModelForCausalLM, AutoTokenizer, pipeline, TransformersEngine\n",
    "\n",
    "model_name = \"HuggingFaceTB/SmolLM2-1.7B-Instruct\"\n",
    "tokenizer = AutoTokenizer.from_pretrained(model_name)\n",
    "model = AutoModelForCausalLM.from_pretrained(model_name)\n",
    "\n",
    "pipe = pipeline(\"text-generation\", model=model, tokenizer=tokenizer)\n",
    "\n",
    "engine = TransformersEngine(pipe)\n",
    "engine([{\"role\": \"user\", \"content\": \"How are you ?\"}], stop_sequences=[\"great\"])\n"
   ]
  },
  {
   "cell_type": "code",
   "execution_count": null,
   "metadata": {},
   "outputs": [],
   "source": [
    "# Test de l'agent CSV sans le paramètre problématique\n",
    "from smolagents import ToolCallingAgent, OpenAIServerModel\n",
    "from managed_agent.csv_analyzer_tool import CSVAnalyzerTool\n",
    "import os\n",
    "\n",
    "# Création d'un exemple de contenu CSV simple\n",
    "csv_content = \"\"\"nom,age,ville\n",
    "Alice,25,Paris\n",
    "Bob,30,Lyon\n",
    "Claire,28,Marseille\n",
    "David,35,Bordeaux\"\"\"\n",
    "\n",
    "# Création du modèle\n",
    "model = OpenAIServerModel(\n",
    "    model_id=\"gpt-4o\",\n",
    "    api_base=\"https://api.openai.com/v1\",\n",
    "    api_key=os.environ[\"OPENAI_API_KEY\"],\n",
    ")\n",
    "\n",
    "# Création d'un agent data analyst avec l'outil d'analyse CSV\n",
    "# En supprimant le paramètre problématique\n",
    "data_agent = ToolCallingAgent(\n",
    "    tools=[CSVAnalyzerTool()],\n",
    "    model=model,\n",
    "    name=\"data_analyst\",\n",
    "    description=\"Analyzes CSV data.\"\n",
    ")\n",
    "\n",
    "# Création d'un agent manageur\n",
    "manager = CodeAgent(\n",
    "    tools=[],\n",
    "    model=model, \n",
    "    name=\"manager_agent\",\n",
    "    managed_agents=[data_agent]\n",
    ")\n",
    "\n",
    "# Test de l'agent\n",
    "result = manager.run(f\"Voici un fichier CSV à analyser:\\n{csv_content}\\n\\nPouvez-vous me fournir des informations sur ce fichier?\")\n",
    "print(result)"
   ]
  },
  {
   "cell_type": "code",
   "execution_count": null,
   "metadata": {},
   "outputs": [],
   "source": []
  }
 ],
 "metadata": {
  "kernelspec": {
   "display_name": "base",
   "language": "python",
   "name": "python3"
  },
  "language_info": {
   "codemirror_mode": {
    "name": "ipython",
    "version": 3
   },
   "file_extension": ".py",
   "mimetype": "text/x-python",
   "name": "python",
   "nbconvert_exporter": "python",
   "pygments_lexer": "ipython3",
   "version": "3.12.9"
  }
 },
 "nbformat": 4,
 "nbformat_minor": 2
}
